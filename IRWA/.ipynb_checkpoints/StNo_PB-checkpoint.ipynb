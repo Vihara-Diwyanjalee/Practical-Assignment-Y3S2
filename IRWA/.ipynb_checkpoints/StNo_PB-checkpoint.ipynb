{
 "cells": [
  {
   "cell_type": "code",
   "execution_count": 18,
   "id": "44e4167d-1087-4350-b326-a904183a5b83",
   "metadata": {},
   "outputs": [
    {
     "name": "stdout",
     "output_type": "stream",
     "text": [
      "Welcome to Quote Master!\n",
      "You need to create a similar quote to the one given by the computer.\n",
      "You have 15 seconds to input your quotes. Good luck!\n",
      "\n",
      "Computer Quote: \"Dream big and work hard\"\n",
      "Time Remaining: 15 seconds\n"
     ]
    },
    {
     "name": "stdin",
     "output_type": "stream",
     "text": [
      "Your Quote:  big dream and hard work\n"
     ]
    },
    {
     "name": "stdout",
     "output_type": "stream",
     "text": [
      "Similarity Score: 1.00\n",
      "Congratulations! Your quote is similar enough. You win!\n"
     ]
    }
   ],
   "source": [
    "import random\n",
    "import time\n",
    "import threading\n",
    "from sklearn.feature_extraction.text import TfidfVectorizer\n",
    "from sklearn.metrics.pairwise import cosine_similarity\n",
    "\n",
    "def get_user_input(prompt, input_container):\n",
    "    \"\"\"\n",
    "    Function to get user input and store it in a list.\n",
    "    \"\"\"\n",
    "    user_input = input(prompt)\n",
    "    input_container.append(user_input)\n",
    "\n",
    "def calculate_similarity(quote1, quote2):\n",
    "    \"\"\"\n",
    "    Calculate the cosine similarity between two quotes using TF-IDF.\n",
    "    Returns a float between 0 and 1.\n",
    "    \"\"\"\n",
    "    vectorizer = TfidfVectorizer().fit_transform([quote1, quote2])\n",
    "    vectors = vectorizer.toarray()\n",
    "    cos_sim = cosine_similarity([vectors[0]], [vectors[1]])[0][0]\n",
    "    return cos_sim\n",
    "\n",
    "def quote_master_game():\n",
    "    quotes = [\n",
    "        \"Dream big and work hard\",\n",
    "        \"Love deeply and worry less\",\n",
    "        \"Stay positive and stay focused\"\n",
    "    ]\n",
    "\n",
    "    print(\"Welcome to Quote Master!\")\n",
    "    print(\"You need to create a similar quote to the one given by the computer.\")\n",
    "    print(\"You have 15 seconds to input your quotes. Good luck!\\n\")\n",
    "\n",
    "    remaining_time = 15  # seconds\n",
    "    start_time = time.time()\n",
    "\n",
    "    # Select the first random quote\n",
    "    current_quote = random.choice(quotes)\n",
    "\n",
    "    while remaining_time > 0:\n",
    "        print(f\"Computer Quote: \\\"{current_quote}\\\"\")\n",
    "        print(f\"Time Remaining: {int(remaining_time)} seconds\")\n",
    "        \n",
    "        input_container = []\n",
    "        input_thread = threading.Thread(target=get_user_input, args=(\"Your Quote: \", input_container))\n",
    "        input_thread.start()\n",
    "\n",
    "        input_thread.join(timeout=remaining_time)\n",
    "\n",
    "        end_time = time.time()\n",
    "        time_taken = end_time - start_time\n",
    "\n",
    "        if input_thread.is_alive():\n",
    "            print(\"\\nTime's up! You took too long to respond.\")\n",
    "            return\n",
    "        else:\n",
    "            user_quote = input_container[0].strip()\n",
    "            if not user_quote:\n",
    "                print(\"You entered an empty quote. Please try again.\\n\")\n",
    "                # Update remaining time\n",
    "                remaining_time = 15 - (end_time - start_time)\n",
    "                current_quote = random.choice(quotes)\n",
    "                continue\n",
    "\n",
    "            similarity = calculate_similarity(current_quote, user_quote)\n",
    "            print(f\"Similarity Score: {similarity:.2f}\")\n",
    "\n",
    "            if similarity > 0.5:\n",
    "                print(\"Congratulations! Your quote is similar enough. You win!\")\n",
    "                return\n",
    "            else:\n",
    "                print(\"Your quote isn't similar enough. A new quote will be provided.\\n\")\n",
    "                # Update remaining time\n",
    "                remaining_time = 15 - (end_time - start_time)\n",
    "                if remaining_time <= 0:\n",
    "                    print(\"Time's up! You couldn't provide a similar quote in time.\")\n",
    "                    return\n",
    "                current_quote = random.choice(quotes)\n",
    "\n",
    "    print(\"Time's up! You couldn't provide a similar quote in time.\")\n",
    "\n",
    "if __name__ == \"__main__\":\n",
    "    quote_master_game()\n"
   ]
  },
  {
   "cell_type": "code",
   "execution_count": null,
   "id": "e54e4cbf-8cb1-4855-bc92-5a4e64feee2c",
   "metadata": {},
   "outputs": [],
   "source": []
  }
 ],
 "metadata": {
  "kernelspec": {
   "display_name": "Python 3 (ipykernel)",
   "language": "python",
   "name": "python3"
  },
  "language_info": {
   "codemirror_mode": {
    "name": "ipython",
    "version": 3
   },
   "file_extension": ".py",
   "mimetype": "text/x-python",
   "name": "python",
   "nbconvert_exporter": "python",
   "pygments_lexer": "ipython3",
   "version": "3.11.7"
  }
 },
 "nbformat": 4,
 "nbformat_minor": 5
}
